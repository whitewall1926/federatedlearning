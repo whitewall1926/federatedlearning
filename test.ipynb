{
 "cells": [
  {
   "cell_type": "code",
   "execution_count": null,
   "metadata": {},
   "outputs": [],
   "source": [
    "import torch\n",
    "import torch.nn as nn\n",
    "import torch.nn.functional as F\n",
    "import torch.optim as optim\n"
   ]
  },
  {
   "cell_type": "code",
   "execution_count": null,
   "metadata": {},
   "outputs": [],
   "source": [
    "class Net(nn.Module):\n",
    "    def __init__(self):\n",
    "        super(Net, self).__init__()\n",
    "        self.conv1 = nn.Conv2d(3, 6, 5)\n",
    "        self.pool = nn.MaxPool2d(2, 2)\n",
    "        self.conv2 = nn.Conv2d(6, 16, 5)\n",
    "        self.fc1 = nn.Linear(16 * 5 * 5, 120)\n",
    "        self.fc2 = nn.Linear(120, 84)\n",
    "        self.fc3 = nn.Linear(84, 10)\n",
    "\n",
    "    def forward(self, x):\n",
    "        x = self.pool(F.relu(self.conv1(x)))\n",
    "        x = self.pool(F.relu(self.conv2(x)))\n",
    "        x = x.view(-1, 16 * 5 * 5)\n",
    "        x = F.relu(self.fc1(x))\n",
    "        x = F.relu(self.fc2(x))\n",
    "        x = self.fc3(x)\n",
    "        return x\n",
    "\n",
    "net = Net()\n",
    "print(net)"
   ]
  },
  {
   "cell_type": "code",
   "execution_count": null,
   "metadata": {},
   "outputs": [],
   "source": [
    "optimizer = optim.SGD(net.parameters(), lr=0.001, momentum=0.9)\n"
   ]
  },
  {
   "cell_type": "code",
   "execution_count": null,
   "metadata": {},
   "outputs": [],
   "source": [
    "# Print model's state_dict\n",
    "print(\"Model's state_dict:\")\n",
    "for param_tensor in net.state_dict():\n",
    "    print(param_tensor, \"\\t\", net.state_dict()[param_tensor].size())\n",
    "\n",
    "print()\n",
    "\n",
    "# Print optimizer's state_dict\n",
    "print(\"Optimizer's state_dict:\")\n",
    "for var_name in optimizer.state_dict():\n",
    "    print(var_name, \"\\t\", optimizer.state_dict()[var_name])"
   ]
  },
  {
   "cell_type": "code",
   "execution_count": null,
   "metadata": {},
   "outputs": [],
   "source": [
    "import torch\n",
    "x = torch.arange(6)\n",
    "print(x.shape, x.size())\n",
    "x = x.reshape(2, 3)\n",
    "print(x.shape, x.size())\n",
    "print(torch.arange(6).numel())\n",
    "print(x.reshape(3, -1))"
   ]
  },
  {
   "cell_type": "code",
   "execution_count": null,
   "metadata": {},
   "outputs": [],
   "source": [
    "if 1 == 1.0:\n",
    "    print(True)\n",
    "else:\n",
    "    print(False)"
   ]
  },
  {
   "cell_type": "code",
   "execution_count": null,
   "metadata": {},
   "outputs": [],
   "source": [
    "x = torch.arange(12)\n",
    "y = torch.arange(12)\n",
    "print(id(x), id(y))\n",
    "y[:] = x + y\n",
    "print(id(y))\n",
    "y =x + y\n",
    "print(id(y))"
   ]
  },
  {
   "cell_type": "code",
   "execution_count": null,
   "metadata": {},
   "outputs": [],
   "source": [
    "print(x > y, '\\n', x == y, x < y)"
   ]
  },
  {
   "cell_type": "code",
   "execution_count": null,
   "metadata": {},
   "outputs": [],
   "source": [
    "beta = 0.99\n",
    "beta_zero = 0.9999\n",
    "rou = 0.992\n",
    "for  t in  range(400):\n",
    "    beta_t = beta + (beta_zero - beta) * rou**(t)\n",
    "    print(f'{beta_t:.10f}')"
   ]
  },
  {
   "cell_type": "code",
   "execution_count": null,
   "metadata": {},
   "outputs": [],
   "source": [
    "r = torch.randperm(5)\n",
    "print(r)"
   ]
  },
  {
   "cell_type": "code",
   "execution_count": null,
   "metadata": {},
   "outputs": [],
   "source": [
    "from torchvision import datasets, transforms\n",
    "train_dataset =  datasets.MNIST('./mnist_dataset', train=True, download=True)\n",
    "print(len(train_dataset))"
   ]
  },
  {
   "cell_type": "code",
   "execution_count": null,
   "metadata": {},
   "outputs": [],
   "source": [
    "from utils import plot\n",
    "t = torch.arange(12).tolist()\n",
    "plot(t)"
   ]
  },
  {
   "cell_type": "code",
   "execution_count": null,
   "metadata": {},
   "outputs": [],
   "source": [
    "from torch.utils.tensorboard import SummaryWriter\n",
    "\n",
    "writer = SummaryWriter('logs')\n",
    "# writer.add_image()\n",
    "for i in range(100):\n",
    "    writer.add_scalar(tag='y=3*x', scalar_value=i, global_step=i)\n",
    "\n",
    "writer.close() "
   ]
  },
  {
   "cell_type": "code",
   "execution_count": null,
   "metadata": {},
   "outputs": [],
   "source": [
    "A = [1, 2, 3]\n",
    "for i in A:\n",
    "    print(i)"
   ]
  },
  {
   "cell_type": "code",
   "execution_count": null,
   "metadata": {},
   "outputs": [],
   "source": [
    "import random\n",
    "train_dataset =  datasets.MNIST('./mnist_dataset', train=True, download=True)\n",
    "l = (train_dataset.targets.numpy().tolist())\n",
    "nums = []\n",
    "for i in range(10000):\n",
    "    nums.append(random.randint(0, 100))\n",
    "nums.sort()\n",
    "\n",
    "s = 0\n",
    "for i in nums:\n",
    "    for j in nums:\n",
    "        s += abs(i - j)\n",
    "\n",
    "sum_nums = sum(nums)\n",
    "pre = 0\n",
    "s_t = 0\n",
    "\n",
    "for i, num in enumerate(nums):\n",
    "    s_t += num * i - pre + (sum_nums - pre - num) - (len(nums) - i - 1) * num\n",
    "    pre += num\n",
    "print(s, s_t, s_t == s)"
   ]
  },
  {
   "cell_type": "markdown",
   "metadata": {},
   "source": []
  },
  {
   "cell_type": "code",
   "execution_count": null,
   "metadata": {},
   "outputs": [],
   "source": [
    "print(chr(ord('a') + 25 - 1))"
   ]
  },
  {
   "cell_type": "code",
   "execution_count": null,
   "metadata": {},
   "outputs": [],
   "source": [
    "import importlib\n",
    "import utils\n",
    "from utils import create_dirichlet_split_noniid\n",
    "from torchvision import datasets, transforms\n",
    "import torch\n",
    "import numpy as np\n",
    "\n",
    "importlib.reload(utils)\n",
    "\n",
    "train_dataset =  datasets.MNIST('./mnist_dataset', train=True, download=True)\n",
    "test_dataset = datasets.MNIST('./mnist_dataset', train=False, download=True)\n",
    "\n",
    "train_data = train_dataset.data.to(torch.float)\n",
    "train_labels = train_dataset.targets.numpy()\n",
    "\n",
    "create_dirichlet_split_noniid(train_data=train_data,\n",
    "                              train_labels=train_labels,\n",
    "                              alpha=0.5,\n",
    "                              clients_number=10)\n",
    "\n",
    "\n",
    "print((np.argwhere(train_labels == 1)).flatten())"
   ]
  },
  {
   "cell_type": "code",
   "execution_count": null,
   "metadata": {},
   "outputs": [],
   "source": [
    "from torch.distributions import Dirichlet\n",
    "alpha = torch.tensor([0.1, 0.1])\n",
    "dirichlet = Dirichlet(alpha)\n",
    "print(dirichlet.sample())"
   ]
  },
  {
   "cell_type": "code",
   "execution_count": null,
   "metadata": {},
   "outputs": [],
   "source": [
    "a = torch.arange(100)\n",
    "c = 10\n",
    "\n",
    "beta = 0.99\n",
    "beta_zero = 0.9999\n",
    "rou = 0.992\n",
    "\n",
    "for t in range(1000):\n",
    "    beta_t = beta + (beta_zero - beta) * rou**(t)\n",
    "    y = 0\n",
    "    for i in a:\n",
    "        y += i\n",
    "    y *= c * 2\n",
    "    x = 0\n",
    "    for j in a:\n",
    "        for k in a:\n",
    "            x += abs(j - k)\n",
    "    print(x / y)"
   ]
  },
  {
   "cell_type": "code",
   "execution_count": null,
   "metadata": {},
   "outputs": [],
   "source": [
    "import torch\n",
    "\n",
    "a = torch.randn(4, 4)\n",
    "print(a)\n",
    "b = torch.tensor([[1, 2], [-1, 2]])\n",
    "print(torch.argmax(a, 0))"
   ]
  },
  {
   "cell_type": "code",
   "execution_count": null,
   "metadata": {},
   "outputs": [],
   "source": [
    "import numpy as np\n",
    "import matplotlib.pyplot as plt\n",
    "from sklearn.metrics import confusion_matrix\n",
    "\n",
    "# 示例数据：真实标签和预测标签\n",
    "y_true = [0, 1, 2, 2, 0, 1, 1, 2, 2, 0, 1, 2]\n",
    "y_pred = [0, 0, 2, 1, 0, 2, 1, 0, 2, 0, 2, 2]\n",
    "\n",
    "# 计算混淆矩阵\n",
    "cm = confusion_matrix(y_true, y_pred)\n",
    "\n",
    "# 绘制混淆矩阵\n",
    "def plot_confusion_matrix(cm, classes, title='Confusion matrix', cmap=plt.cm.Blues):\n",
    "    plt.imshow(cm, interpolation='nearest', cmap=cmap)\n",
    "    plt.title(title)\n",
    "    plt.colorbar()\n",
    "    tick_marks = np.arange(cm.shape[0])\n",
    "    plt.xticks(tick_marks, np.arange(cm.shape[0]), rotation=45)\n",
    "    plt.yticks(tick_marks, np.arange(cm.shape[0]))\n",
    "\n",
    "    fmt = 'd'\n",
    "    thresh = cm.max() / 2.\n",
    "    for i, j in np.ndindex(cm.shape):\n",
    "        plt.text(j, i, format(cm[i, j], fmt),\n",
    "                 horizontalalignment=\"center\",\n",
    "                 color=\"white\" if cm[i, j] > thresh else \"black\")\n",
    "\n",
    "    plt.ylabel('True label')\n",
    "    plt.xlabel('Predicted label')\n",
    "    plt.tight_layout()\n",
    "\n",
    "# 类别名称\n",
    "class_names = ['Class 0', 'Class 1', 'Class 2']\n",
    "\n",
    "# 调用绘制函数\n",
    "plot_confusion_matrix(cm, classes=class_names)\n",
    "plt.figure\n"
   ]
  },
  {
   "cell_type": "code",
   "execution_count": null,
   "metadata": {},
   "outputs": [],
   "source": [
    "import wandb\n",
    "from utils import load_config\n",
    "\n",
    "with wandb.init(project='config_example', config=load_config()) as run:\n",
    "    print(run.config)"
   ]
  },
  {
   "cell_type": "code",
   "execution_count": 1,
   "metadata": {},
   "outputs": [
    {
     "name": "stdout",
     "output_type": "stream",
     "text": [
      "未检测到 GPU。\n",
      "WARNING:tensorflow:From C:\\Users\\whitewall\\AppData\\Local\\Temp\\ipykernel_39800\\635534472.py:13: is_gpu_available (from tensorflow.python.framework.test_util) is deprecated and will be removed in a future version.\n",
      "Instructions for updating:\n",
      "Use `tf.config.list_physical_devices('GPU')` instead.\n",
      "tf.test.is_gpu_available(): False\n"
     ]
    }
   ],
   "source": [
    "import tensorflow as tf\n",
    "\n",
    "# 推荐方式：列出所有 GPU 设备\n",
    "gpus = tf.config.list_physical_devices('GPU')\n",
    "if gpus:\n",
    "    print(\"检测到 GPU：\")\n",
    "    for gpu in gpus:\n",
    "        print(\"  \", gpu)\n",
    "else:\n",
    "    print(\"未检测到 GPU。\")\n",
    "\n",
    "# 或者使用较旧的 tf.test 方法（可能会有警告）\n",
    "print(\"tf.test.is_gpu_available():\", tf.test.is_gpu_available())"
   ]
  },
  {
   "cell_type": "code",
   "execution_count": 1,
   "metadata": {},
   "outputs": [
    {
     "name": "stderr",
     "output_type": "stream",
     "text": [
      "\u001b[34m\u001b[1mwandb\u001b[0m: Using wandb-core as the SDK backend.  Please refer to https://wandb.me/wandb-core for more information.\n",
      "\u001b[34m\u001b[1mwandb\u001b[0m: Currently logged in as: \u001b[33mwhitewall_9\u001b[0m (\u001b[33mwhitewall_9-jinan-university\u001b[0m) to \u001b[32mhttps://api.wandb.ai\u001b[0m. Use \u001b[1m`wandb login --relogin`\u001b[0m to force relogin\n"
     ]
    },
    {
     "data": {
      "text/html": [
       "Tracking run with wandb version 0.19.8"
      ],
      "text/plain": [
       "<IPython.core.display.HTML object>"
      ]
     },
     "metadata": {},
     "output_type": "display_data"
    },
    {
     "data": {
      "text/html": [
       "Run data is saved locally in <code>d:\\SAVE\\Code\\CodeForces\\test-fl\\wandb\\run-20250331_224208-it76u1y5</code>"
      ],
      "text/plain": [
       "<IPython.core.display.HTML object>"
      ]
     },
     "metadata": {},
     "output_type": "display_data"
    },
    {
     "data": {
      "text/html": [
       "Syncing run <strong><a href='https://wandb.ai/whitewall_9-jinan-university/test/runs/it76u1y5' target=\"_blank\">test_define_metric</a></strong> to <a href='https://wandb.ai/whitewall_9-jinan-university/test' target=\"_blank\">Weights & Biases</a> (<a href='https://wandb.me/developer-guide' target=\"_blank\">docs</a>)<br>"
      ],
      "text/plain": [
       "<IPython.core.display.HTML object>"
      ]
     },
     "metadata": {},
     "output_type": "display_data"
    },
    {
     "data": {
      "text/html": [
       " View project at <a href='https://wandb.ai/whitewall_9-jinan-university/test' target=\"_blank\">https://wandb.ai/whitewall_9-jinan-university/test</a>"
      ],
      "text/plain": [
       "<IPython.core.display.HTML object>"
      ]
     },
     "metadata": {},
     "output_type": "display_data"
    },
    {
     "data": {
      "text/html": [
       " View run at <a href='https://wandb.ai/whitewall_9-jinan-university/test/runs/it76u1y5' target=\"_blank\">https://wandb.ai/whitewall_9-jinan-university/test/runs/it76u1y5</a>"
      ],
      "text/plain": [
       "<IPython.core.display.HTML object>"
      ]
     },
     "metadata": {},
     "output_type": "display_data"
    }
   ],
   "source": [
    "import wandb\n",
    "\n",
    "wandb.init(project=\"test\", name=\"test_define_metric\")\n",
    "# define our custom x axis metric\n",
    "wandb.define_metric(\"custom_step\")\n",
    "# define which metrics will be plotted against it\n",
    "wandb.define_metric(\"validation_loss\", step_metric=\"custom_step\")\n",
    "\n",
    "for i in range(10):\n",
    "    log_dict = {\n",
    "        \"train_loss\": 1 / (i + 1),\n",
    "        \"custom_step\": i**2,\n",
    "        \"validation_loss\": 1 / (i + 1),\n",
    "    }\n",
    "    wandb.log(log_dict)\n"
   ]
  },
  {
   "cell_type": "code",
   "execution_count": 3,
   "metadata": {},
   "outputs": [],
   "source": [
    "import wandb\n",
    "\n",
    "wandb.init(project='test')\n",
    "# define our custom x axis metric\n",
    "wandb.define_metric(\"train/step\")\n",
    "# set all other train/ metrics to use this step\n",
    "wandb.define_metric(\"train/*\", step_metric=\"train/step\")\n",
    "\n",
    "for i in range(10):\n",
    "    log_dict = {\n",
    "        \"train/step\": 2**i,  # exponential growth w/ internal W&B step\n",
    "        \"train/loss\": 1 / (i + 1),  # x-axis is train/step\n",
    "        \"train/accuracy\": 1 - (1 / (1 + i)),  # x-axis is train/step\n",
    "        \"val/loss\": 1 / (1 + i),  # x-axis is internal wandb step\n",
    "    }\n",
    "    wandb.log(log_dict)\n"
   ]
  },
  {
   "cell_type": "code",
   "execution_count": 3,
   "metadata": {},
   "outputs": [
    {
     "name": "stderr",
     "output_type": "stream",
     "text": [
      "\u001b[34m\u001b[1mwandb\u001b[0m: Using wandb-core as the SDK backend.  Please refer to https://wandb.me/wandb-core for more information.\n",
      "\u001b[34m\u001b[1mwandb\u001b[0m: Currently logged in as: \u001b[33mwhitewall_9\u001b[0m (\u001b[33mwhitewall_9-jinan-university\u001b[0m) to \u001b[32mhttps://api.wandb.ai\u001b[0m. Use \u001b[1m`wandb login --relogin`\u001b[0m to force relogin\n"
     ]
    },
    {
     "data": {
      "text/html": [
       "creating run (1.4s)"
      ],
      "text/plain": [
       "<IPython.core.display.HTML object>"
      ]
     },
     "metadata": {},
     "output_type": "display_data"
    },
    {
     "data": {
      "text/html": [
       "Tracking run with wandb version 0.19.8"
      ],
      "text/plain": [
       "<IPython.core.display.HTML object>"
      ]
     },
     "metadata": {},
     "output_type": "display_data"
    },
    {
     "data": {
      "text/html": [
       "Run data is saved locally in <code>d:\\SAVE\\Code\\CodeForces\\test-fl\\wandb\\run-20250331_235132-itfc0yo6</code>"
      ],
      "text/plain": [
       "<IPython.core.display.HTML object>"
      ]
     },
     "metadata": {},
     "output_type": "display_data"
    },
    {
     "data": {
      "text/html": [
       "Syncing run <strong><a href='https://wandb.ai/whitewall_9-jinan-university/test/runs/itfc0yo6' target=\"_blank\">expert-energy-4</a></strong> to <a href='https://wandb.ai/whitewall_9-jinan-university/test' target=\"_blank\">Weights & Biases</a> (<a href='https://wandb.me/developer-guide' target=\"_blank\">docs</a>)<br>"
      ],
      "text/plain": [
       "<IPython.core.display.HTML object>"
      ]
     },
     "metadata": {},
     "output_type": "display_data"
    },
    {
     "data": {
      "text/html": [
       " View project at <a href='https://wandb.ai/whitewall_9-jinan-university/test' target=\"_blank\">https://wandb.ai/whitewall_9-jinan-university/test</a>"
      ],
      "text/plain": [
       "<IPython.core.display.HTML object>"
      ]
     },
     "metadata": {},
     "output_type": "display_data"
    },
    {
     "data": {
      "text/html": [
       " View run at <a href='https://wandb.ai/whitewall_9-jinan-university/test/runs/itfc0yo6' target=\"_blank\">https://wandb.ai/whitewall_9-jinan-university/test/runs/itfc0yo6</a>"
      ],
      "text/plain": [
       "<IPython.core.display.HTML object>"
      ]
     },
     "metadata": {},
     "output_type": "display_data"
    },
    {
     "data": {
      "text/html": [],
      "text/plain": [
       "<IPython.core.display.HTML object>"
      ]
     },
     "metadata": {},
     "output_type": "display_data"
    },
    {
     "data": {
      "text/html": [
       " View run <strong style=\"color:#cdcd00\">expert-energy-4</strong> at: <a href='https://wandb.ai/whitewall_9-jinan-university/test/runs/itfc0yo6' target=\"_blank\">https://wandb.ai/whitewall_9-jinan-university/test/runs/itfc0yo6</a><br> View project at: <a href='https://wandb.ai/whitewall_9-jinan-university/test' target=\"_blank\">https://wandb.ai/whitewall_9-jinan-university/test</a><br>Synced 5 W&B file(s), 0 media file(s), 2 artifact file(s) and 0 other file(s)"
      ],
      "text/plain": [
       "<IPython.core.display.HTML object>"
      ]
     },
     "metadata": {},
     "output_type": "display_data"
    },
    {
     "data": {
      "text/html": [
       "Find logs at: <code>.\\wandb\\run-20250331_235132-itfc0yo6\\logs</code>"
      ],
      "text/plain": [
       "<IPython.core.display.HTML object>"
      ]
     },
     "metadata": {},
     "output_type": "display_data"
    }
   ],
   "source": [
    "from model import Mnist_CNN\n",
    "import torch\n",
    "import wandb\n",
    "wandb.init(project='test')\n",
    "\n",
    "model = Mnist_CNN()\n",
    "torch.save(model.state_dict(), \"model.pth\")\n",
    "artifact = wandb.Artifact(\"model\", type=\"model\")\n",
    "artifact.add_file(\"model.pth\")\n",
    "wandb.log_artifact(artifact)\n",
    "wandb.finish()"
   ]
  },
  {
   "cell_type": "code",
   "execution_count": 1,
   "metadata": {},
   "outputs": [
    {
     "name": "stdout",
     "output_type": "stream",
     "text": [
      "40\n"
     ]
    }
   ],
   "source": [
    "print(len(\"39e4a06e286b4613f18142047703373a63c91cff\"))"
   ]
  },
  {
   "cell_type": "code",
   "execution_count": 5,
   "metadata": {},
   "outputs": [
    {
     "name": "stdout",
     "output_type": "stream",
     "text": [
      "\n",
      "mnist_lr\n",
      "_long_tail_alpharandom_resample_random_clients\n",
      "\n"
     ]
    }
   ],
   "source": [
    "import textwrap\n",
    "name=f\"\"\"\n",
    "        mnist_lr\n",
    "        _long_tail_alpharandom_resample_random_clients\n",
    "    \"\"\"\n",
    "\n",
    "print(textwrap.dedent(name))"
   ]
  },
  {
   "cell_type": "code",
   "execution_count": null,
   "metadata": {},
   "outputs": [
    {
     "name": "stdout",
     "output_type": "stream",
     "text": [
      "模型总参数数量: 878538\n",
      "simple_cnn(\n",
      "  (conv1): Conv2d(3, 32, kernel_size=(5, 5), stride=(1, 1))\n",
      "  (conv2): Conv2d(32, 64, kernel_size=(5, 5), stride=(1, 1))\n",
      "  (pool): MaxPool2d(kernel_size=2, stride=2, padding=0, dilation=1, ceil_mode=False)\n",
      "  (fc1): Linear(in_features=1600, out_features=512, bias=True)\n",
      "  (fc2): Linear(in_features=512, out_features=10, bias=True)\n",
      ")\n"
     ]
    }
   ],
   "source": [
    "import model\n",
    "from model import simple_cnn\n",
    "\n",
    "model = simple_cnn()\n",
    "minst_tranform = transforms.Compose([\n",
    "                transforms.Normalize((0.1307,), (0.3081,))\n",
    "            ])\n",
    "train_dataset =  datasets.MNIST('./fashion_mnist_dataset', train=True, download=True)\n",
    "test_dataset = datasets.MNIST('./fashion_mnist_dataset', train=False, download=True)\n",
    "\n"
   ]
  },
  {
   "cell_type": "code",
   "execution_count": null,
   "metadata": {},
   "outputs": [],
   "source": []
  }
 ],
 "metadata": {
  "kernelspec": {
   "display_name": "dl",
   "language": "python",
   "name": "python3"
  },
  "language_info": {
   "codemirror_mode": {
    "name": "ipython",
    "version": 3
   },
   "file_extension": ".py",
   "mimetype": "text/x-python",
   "name": "python",
   "nbconvert_exporter": "python",
   "pygments_lexer": "ipython3",
   "version": "3.9.18"
  }
 },
 "nbformat": 4,
 "nbformat_minor": 2
}
